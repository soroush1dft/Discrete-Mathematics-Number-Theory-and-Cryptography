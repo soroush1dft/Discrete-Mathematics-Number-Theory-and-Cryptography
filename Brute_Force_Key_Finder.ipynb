{
  "nbformat": 4,
  "nbformat_minor": 0,
  "metadata": {
    "colab": {
      "provenance": [],
      "authorship_tag": "ABX9TyMRssqHPFI/y8rva5j2sODb",
      "include_colab_link": true
    },
    "kernelspec": {
      "name": "python3",
      "display_name": "Python 3"
    },
    "language_info": {
      "name": "python"
    }
  },
  "cells": [
    {
      "cell_type": "markdown",
      "metadata": {
        "id": "view-in-github",
        "colab_type": "text"
      },
      "source": [
        "<a href=\"https://colab.research.google.com/github/soroush1dft/Discrete-Mathematics-Number-Theory-and-Cryptography/blob/main/Brute_Force_Key_Finder.ipynb\" target=\"_parent\"><img src=\"https://colab.research.google.com/assets/colab-badge.svg\" alt=\"Open In Colab\"/></a>"
      ]
    },
    {
      "cell_type": "code",
      "execution_count": null,
      "metadata": {
        "id": "_Njr_O-xeaAg"
      },
      "outputs": [],
      "source": [
        "def make_M_matrix(U):\n",
        "    n = len(Guss_Ki(U[0]))\n",
        "    M_out = [[] for _ in range(n)]\n",
        "\n",
        "\n",
        "    for u in U:\n",
        "        guss_ki_result = Guss_Ki(u)\n",
        "        # Assuming the length of guss_ki_result is same as n\n",
        "        for i in range(n):\n",
        "            M_out[i].append(guss_ki_result[i])\n",
        "\n",
        "    return M_out\n",
        "\n",
        "\n",
        "def find_k0(M0,M1,M2,M3,M4,M5,plain_M0,plain_M1,plain_M2,plain_M3,plain_M4,plain_M5):\n",
        "  for i in range(16):\n",
        "    for j in range(10):\n",
        "      if M0[i][j] == plain_M0 and \\\n",
        "      M1[i][j] == plain_M1 and \\\n",
        "      M2[i][j] == plain_M2 and \\\n",
        "      M3[i][j] == plain_M3 and \\\n",
        "      M4[i][j] == plain_M4 and \\\n",
        "      M5[i][j] == plain_M5:\n",
        "        return i , j"
      ]
    },
    {
      "cell_type": "code",
      "source": [
        "candidate_M0_matrix = make_M_matrix(u0_candidate)\n",
        "candidate_M1_matrix = make_M_matrix(u1_candidate)\n",
        "candidate_M2_matrix = make_M_matrix(u2_candidate)\n",
        "candidate_M3_matrix = make_M_matrix(u3_candidate)\n",
        "candidate_M4_matrix = make_M_matrix(u4_candidate)\n",
        "candidate_M5_matrix = make_M_matrix(u5_candidate)\n",
        "\n",
        "print(\"candidate_M0_matrix:\", candidate_M0_matrix)\n",
        "print(\"candidate_M1_matrix:\", candidate_M1_matrix)\n",
        "print(\"candidate_M2_matrix:\", candidate_M2_matrix)\n",
        "print(\"candidate_M3_matrix:\", candidate_M3_matrix)\n",
        "print(\"candidate_M4_matrix:\", candidate_M4_matrix)\n",
        "print(\"candidate_M5_matrix:\", candidate_M5_matrix)\n"
      ],
      "metadata": {
        "id": "Wmk7UoJVewsQ"
      },
      "execution_count": null,
      "outputs": []
    },
    {
      "cell_type": "code",
      "source": [
        "import pprint\n",
        "pprint.pprint(candidate_M0_matrix)"
      ],
      "metadata": {
        "id": "FXcpPmPYezDZ"
      },
      "execution_count": null,
      "outputs": []
    },
    {
      "cell_type": "code",
      "source": [
        "K_0_1list = find_k0(candidate_M0_matrix, \\\n",
        "                    candidate_M1_matrix, \\\n",
        "                    candidate_M2_matrix, \\\n",
        "                    candidate_M3_matrix, \\\n",
        "                    candidate_M4_matrix, \\\n",
        "                    candidate_M5_matrix, \\\n",
        "                    M_C_tuple0[0], \\\n",
        "                    M_C_tuple1[0], \\\n",
        "                    M_C_tuple2[0], \\\n",
        "                    M_C_tuple3[0], \\\n",
        "                    M_C_tuple4[0], \\\n",
        "                    M_C_tuple5[0], \\\n",
        "                    )\n"
      ],
      "metadata": {
        "id": "uzSQPcj3e0-g"
      },
      "execution_count": null,
      "outputs": []
    },
    {
      "cell_type": "code",
      "source": [
        "last_res_k1 = k_1_list[K_0_1list[1]]\n",
        "last_res_k0 = K_0_1list[0]\n",
        "\n",
        "print(\"k1 is calculated : \", last_res_k1)\n",
        "print(\"k0 is calculated : \", last_res_k0)"
      ],
      "metadata": {
        "id": "EFG0C3Gre28g"
      },
      "execution_count": null,
      "outputs": []
    }
  ]
}