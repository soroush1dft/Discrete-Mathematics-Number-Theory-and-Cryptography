{
  "nbformat": 4,
  "nbformat_minor": 0,
  "metadata": {
    "colab": {
      "provenance": []
    },
    "kernelspec": {
      "name": "python3",
      "display_name": "Python 3"
    },
    "language_info": {
      "name": "python"
    }
  },
  "cells": [
    {
      "cell_type": "markdown",
      "source": [
        "in this code i want to calculate any numbers from decimal form to the base *b*"
      ],
      "metadata": {
        "id": "WIaRP9rVNyWg"
      }
    },
    {
      "cell_type": "code",
      "execution_count": 13,
      "metadata": {
        "colab": {
          "base_uri": "https://localhost:8080/"
        },
        "id": "8zdUTlo1Np5N",
        "outputId": "028d3b2e-f78a-4cc3-dd06-9daa2aebc7b2"
      },
      "outputs": [
        {
          "output_type": "stream",
          "name": "stdout",
          "text": [
            "please insert the decimal number:\n",
            "12345\n",
            "please insert the base\n",
            "8\n",
            "17003\n",
            "30071\n"
          ]
        }
      ],
      "source": [
        "num = int(input(\"please insert the decimal number:\\n\"))  #the decimal number that we want to convert it to base \"b\"\n",
        "\n",
        "base = int(input(\"please insert the base\\n\")) #the base\n",
        "\n",
        "i = num\n",
        "res = ''\n",
        "\n",
        "while i>= base:\n",
        "\n",
        "  res+=str(i%base)\n",
        "  a = divmod(i , base)\n",
        "  i = a[0]\n",
        "if i<base:\n",
        "  res+=str(i%base)\n",
        "print(res)\n",
        "finalRes = res[::-1]\n",
        "print(finalRes)"
      ]
    }
  ]
}