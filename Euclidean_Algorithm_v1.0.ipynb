{
  "cells": [
    {
      "cell_type": "markdown",
      "source": [
        "In this code i want to use Euclidian Algorithm to find GCD and it's linear combination s and t"
      ],
      "metadata": {
        "id": "xdpFh2tEuQ-k"
      },
      "id": "xdpFh2tEuQ-k"
    },
    {
      "cell_type": "code",
      "execution_count": 3,
      "id": "2dbbfd8e-6f2e-476a-a14b-e0e8b3d540a1",
      "metadata": {
        "tags": [],
        "id": "2dbbfd8e-6f2e-476a-a14b-e0e8b3d540a1",
        "colab": {
          "base_uri": "https://localhost:8080/"
        },
        "outputId": "127b26ef-1894-42e8-e0ca-2eb2e334749b"
      },
      "outputs": [
        {
          "output_type": "stream",
          "name": "stdout",
          "text": [
            "Please insert the first number:\n",
            "30\n",
            "Please insert the second number:\n",
            "7\n",
            "[0, 1, 2, 3, 4]\n",
            "[0, 0, 4, 3, 2]\n",
            "[30, 7, 2, 1, 0]\n",
            "[1, 0, 1, -3, 7]\n",
            "[0, 1, -4, 13, -30]\n",
            "-------------\n",
            "qk :\n",
            "3\n",
            "gcd :\n",
            "1\n",
            "sk :\n",
            "-3\n",
            "tk :\n",
            "13\n"
          ]
        }
      ],
      "source": [
        "a = int(input(\"Please insert the first number:\\n\"))\n",
        "b = int(input(\"Please insert the second number:\\n\"))\n",
        "\n",
        "def gcd_euclidean(first , second):\n",
        "  #x = max(first , second)\n",
        "  #d = min(first , second)\n",
        "  x = first\n",
        "  d = second\n",
        "  m = x\n",
        "  n = d\n",
        "  k = [0 ,1 ]\n",
        "  q = [0 ,0 ]\n",
        "  r = [x ,d ]\n",
        "  s = [1 ,0 ]\n",
        "  t = [0 ,1 ]\n",
        "  i = 2\n",
        "  while n!= 0:\n",
        "\n",
        "    remmainder = m%n\n",
        "    q1 = divmod(m , n)[0]\n",
        "    k.append(i)\n",
        "    q.append(q1)\n",
        "    r.append(remmainder)\n",
        "    sk = s[i-2] - (q[i]*s[i-1])\n",
        "    s.append(sk)\n",
        "    tk = t[i-2] - (q[i]*t[i-1])\n",
        "    t.append(tk)\n",
        "\n",
        "\n",
        "    m = n\n",
        "    n = remmainder\n",
        "\n",
        "    i += 1\n",
        "\n",
        "  return k, q, r, s, t\n",
        "#----------------------------------------------------\n",
        "\n",
        "res = gcd_euclidean(a , b)\n",
        "type(res)\n",
        "print(res[0])\n",
        "print(res[1])\n",
        "print(res[2])\n",
        "print(res[3])\n",
        "print(res[4])\n",
        "\n",
        "\n",
        "#print(res[0][-2])\n",
        "print(\"-------------\\nqk :\")\n",
        "print(res[1][-2])\n",
        "print(\"gcd :\")\n",
        "print(res[2][-2])\n",
        "print(\"sk :\")\n",
        "print(res[3][-2])\n",
        "print(\"tk :\")\n",
        "print(res[4][-2])\n"
      ]
    }
  ],
  "metadata": {
    "kernelspec": {
      "display_name": "Python 3 (ipykernel)",
      "language": "python",
      "name": "python3"
    },
    "language_info": {
      "codemirror_mode": {
        "name": "ipython",
        "version": 3
      },
      "file_extension": ".py",
      "mimetype": "text/x-python",
      "name": "python",
      "nbconvert_exporter": "python",
      "pygments_lexer": "ipython3",
      "version": "3.11.5"
    },
    "colab": {
      "provenance": []
    }
  },
  "nbformat": 4,
  "nbformat_minor": 5
}