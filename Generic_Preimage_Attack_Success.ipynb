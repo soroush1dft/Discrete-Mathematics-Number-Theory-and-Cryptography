{
  "nbformat": 4,
  "nbformat_minor": 0,
  "metadata": {
    "colab": {
      "provenance": [],
      "authorship_tag": "ABX9TyMCZRBnsiYEifOi5eXf2ZzK",
      "include_colab_link": true
    },
    "kernelspec": {
      "name": "python3",
      "display_name": "Python 3"
    },
    "language_info": {
      "name": "python"
    }
  },
  "cells": [
    {
      "cell_type": "markdown",
      "metadata": {
        "id": "view-in-github",
        "colab_type": "text"
      },
      "source": [
        "<a href=\"https://colab.research.google.com/github/soroush1dft/Discrete-Mathematics-Number-Theory-and-Cryptography/blob/main/Generic_Preimage_Attack_Success.ipynb\" target=\"_parent\"><img src=\"https://colab.research.google.com/assets/colab-badge.svg\" alt=\"Open In Colab\"/></a>"
      ]
    },
    {
      "cell_type": "code",
      "execution_count": 1,
      "metadata": {
        "colab": {
          "base_uri": "https://localhost:8080/",
          "height": 37
        },
        "id": "wTFmsgvyidNi",
        "outputId": "df8e1f5b-9f2c-48de-8514-c3b2d4e3f76b"
      },
      "outputs": [
        {
          "output_type": "execute_result",
          "data": {
            "text/plain": [
              "0.632120558828558"
            ],
            "text/latex": "$\\displaystyle 0.632120558828558$"
          },
          "metadata": {},
          "execution_count": 1
        }
      ],
      "source": [
        "from sympy import symbols, limit, oo\n",
        "\n",
        "# Define the variable and the expression\n",
        "n = symbols('n', real=True, positive=True)\n",
        "expression = (1 - (1 - 2**-n)**(2**n))\n",
        "\n",
        "# Calculate the limit of the expression as n approaches infinity\n",
        "limit_expression = limit(expression, n, oo)\n",
        "limit_expression.evalf()\n"
      ]
    }
  ]
}