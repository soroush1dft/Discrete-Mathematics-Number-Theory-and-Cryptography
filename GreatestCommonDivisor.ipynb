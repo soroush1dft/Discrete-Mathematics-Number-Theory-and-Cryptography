{
 "cells": [
  {
   "cell_type": "code",
   "execution_count": 5,
   "id": "ac3b854f-2fcf-47be-b433-99e90aee4b7c",
   "metadata": {
    "tags": []
   },
   "outputs": [
    {
     "name": "stdin",
     "output_type": "stream",
     "text": [
      "Please insert the first number:\n",
      " 27\n",
      "Please insert the second number:\n",
      " 6\n"
     ]
    },
    {
     "name": "stdout",
     "output_type": "stream",
     "text": [
      "The gcd(a , b) =  3\n",
      "3\n"
     ]
    }
   ],
   "source": [
    "a = int(input(\"Please insert the first number:\\n\"))\n",
    "\n",
    "b = int(input(\"Please insert the second number:\\n\"))\n",
    "\n",
    "def gcd(first , second):\n",
    "  d_list = []\n",
    "  for i in range(1,max(first, second)):\n",
    "    if first%i == 0 and second%i == 0:\n",
    "      d_list.append(i)\n",
    "\n",
    "  return max(d_list)\n",
    "\n",
    "res = gcd(a ,b )\n",
    "print(\"The gcd(a , b) =  \" + str(res))"
   ]
  },
  {
   "cell_type": "code",
   "execution_count": null,
   "id": "0b57638a-2cb4-4901-bf2d-cce8c0f3d500",
   "metadata": {},
   "outputs": [],
   "source": []
  }
 ],
 "metadata": {
  "kernelspec": {
   "display_name": "Python 3 (ipykernel)",
   "language": "python",
   "name": "python3"
  },
  "language_info": {
   "codemirror_mode": {
    "name": "ipython",
    "version": 3
   },
   "file_extension": ".py",
   "mimetype": "text/x-python",
   "name": "python",
   "nbconvert_exporter": "python",
   "pygments_lexer": "ipython3",
   "version": "3.11.5"
  }
 },
 "nbformat": 4,
 "nbformat_minor": 5
}
