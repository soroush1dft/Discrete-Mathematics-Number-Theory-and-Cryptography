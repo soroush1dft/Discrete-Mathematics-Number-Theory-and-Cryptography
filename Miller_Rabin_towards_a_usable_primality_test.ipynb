{
  "nbformat": 4,
  "nbformat_minor": 0,
  "metadata": {
    "colab": {
      "provenance": [],
      "authorship_tag": "ABX9TyPqwh0Pf6VhYZSXw4/hhDMj",
      "include_colab_link": true
    },
    "kernelspec": {
      "name": "python3",
      "display_name": "Python 3"
    },
    "language_info": {
      "name": "python"
    }
  },
  "cells": [
    {
      "cell_type": "markdown",
      "metadata": {
        "id": "view-in-github",
        "colab_type": "text"
      },
      "source": [
        "<a href=\"https://colab.research.google.com/github/soroush1dft/Discrete-Mathematics-Number-Theory-and-Cryptography/blob/main/Miller_Rabin_towards_a_usable_primality_test.ipynb\" target=\"_parent\"><img src=\"https://colab.research.google.com/assets/colab-badge.svg\" alt=\"Open In Colab\"/></a>"
      ]
    },
    {
      "cell_type": "code",
      "execution_count": 3,
      "metadata": {
        "colab": {
          "base_uri": "https://localhost:8080/"
        },
        "id": "DayzfPCFwPqK",
        "outputId": "41963804-63f0-4e59-c580-8b38d3bd1b5d"
      },
      "outputs": [
        {
          "output_type": "execute_result",
          "data": {
            "text/plain": [
              "{1723: True, 1105: False, 1729: False}"
            ]
          },
          "metadata": {},
          "execution_count": 3
        }
      ],
      "source": [
        "from random import randrange\n",
        "\n",
        "# Miller-Rabin primality test implementation\n",
        "def miller_rabin(n, k):\n",
        "    # Step 1: Handle simple cases\n",
        "    if n == 2 or n == 3:\n",
        "        return True\n",
        "    if n <= 1 or n % 2 == 0:\n",
        "        return False\n",
        "\n",
        "    # Step 2: Write n - 1 as 2^s * t where t is odd\n",
        "    t = n - 1\n",
        "    s = 0\n",
        "    while t % 2 == 0:\n",
        "        t //= 2\n",
        "        s += 1\n",
        "\n",
        "    # Step 3: Witness loop\n",
        "    for _ in range(k):\n",
        "        # Step 3.1: Pick a random integer a in the range [2, n − 2]\n",
        "        a = randrange(2, n - 1)\n",
        "        # Step 3.2: Compute a^t mod n\n",
        "        x = pow(a, t, n)\n",
        "\n",
        "        # Step 3.3: If x is not 1 and x is not n - 1, then iterate r times\n",
        "        if x == 1 or x == n - 1:\n",
        "            continue\n",
        "\n",
        "        for _ in range(s - 1):\n",
        "            x = pow(x, 2, n)\n",
        "            if x == n - 1:\n",
        "                break\n",
        "        else:\n",
        "            # n is definitely composite\n",
        "            return False\n",
        "\n",
        "    # n is probably prime\n",
        "    return True\n",
        "\n",
        "# Example numbers to test\n",
        "example_numbers = [1723, 1105, 1729]\n",
        "\n",
        "# Perform Miller-Rabin test on example numbers\n",
        "test_results = {num: miller_rabin(num, 5) for num in example_numbers}\n",
        "test_results"
      ]
    }
  ]
}