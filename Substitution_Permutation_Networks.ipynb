{
  "nbformat": 4,
  "nbformat_minor": 0,
  "metadata": {
    "colab": {
      "provenance": [],
      "authorship_tag": "ABX9TyMFN3RmdhdUL0hzM0tVGNvc",
      "include_colab_link": true
    },
    "kernelspec": {
      "name": "python3",
      "display_name": "Python 3"
    },
    "language_info": {
      "name": "python"
    }
  },
  "cells": [
    {
      "cell_type": "markdown",
      "metadata": {
        "id": "view-in-github",
        "colab_type": "text"
      },
      "source": [
        "<a href=\"https://colab.research.google.com/github/soroush1dft/Discrete-Mathematics-Number-Theory-and-Cryptography/blob/main/Substitution_Permutation_Networks.ipynb\" target=\"_parent\"><img src=\"https://colab.research.google.com/assets/colab-badge.svg\" alt=\"Open In Colab\"/></a>"
      ]
    },
    {
      "cell_type": "markdown",
      "source": [
        "this is the example 4.1 from book **Cryptography: Theory and Practice (Textbooks in Mathematics)** fourth edition. page 105"
      ],
      "metadata": {
        "id": "PdA-_UgyhMRg"
      }
    },
    {
      "cell_type": "code",
      "source": [
        "# Re-implement the SPN encryption function to display the process similar to the provided textbook page 88\n",
        "\n",
        "# Define the S-box and P-box based on the provided images\n",
        "s_box = {\n",
        "    0: 0xE, 1: 0x4, 2: 0xD, 3: 0x1,\n",
        "    4: 0x2, 5: 0xF, 6: 0xB, 7: 0x8,\n",
        "    8: 0x3, 9: 0xA, 10: 0x6, 11: 0xC,\n",
        "    12: 0x5, 13: 0x9, 14: 0x0, 15: 0x7\n",
        "}\n",
        "\n",
        "p_box = {\n",
        "    1: 5, 2: 9, 3: 13, 4: 2,\n",
        "    5: 6, 6: 10, 7: 14, 8: 3,\n",
        "    9: 7, 10: 11, 11: 15, 12: 4,\n",
        "    13: 8, 14: 12, 15: 16, 16: 1\n",
        "}\n",
        "\n",
        "# Define the round keys based on the provided images\n",
        "round_keys = [\n",
        "    '0011101001010000',  # K^1\n",
        "    '1010100101001101',  # K^2\n",
        "    '1001010011010110',  # K^3\n",
        "    '0100110100100011',  # K^4\n",
        "    '1101011000111111',  # K^5\n",
        "]\n",
        "\n",
        "# Helper function to convert a list of integers to a binary string\n",
        "def list_to_bin_string(lst):\n",
        "    return ''.join(format(x, '04b') for x in lst)\n",
        "\n",
        "# Helper function to apply the S-box substitution\n",
        "def substitute(input_bits):\n",
        "    return list_to_bin_string([s_box[int(input_bits[i:i+4], 2)] for i in range(0, len(input_bits), 4)])\n",
        "\n",
        "# Helper function to apply the P-box permutation\n",
        "def permute(input_bits):\n",
        "    return ''.join(input_bits[p_box[i]-1] for i in range(1, len(input_bits)+1))\n",
        "\n",
        "# Function to apply bitwise XOR between two binary strings\n",
        "def xor(a, b):\n",
        "    return ''.join(str(int(x) ^ int(y)) for x, y in zip(a, b))\n",
        "\n",
        "# Function to perform the SPN encryption\n",
        "def SPN_encryption_verbose(plaintext, round_keys):\n",
        "    # Display the plaintext\n",
        "    print(f\"x = {plaintext}\")\n",
        "\n",
        "    # Initial value w^0 is the plaintext\n",
        "    w = plaintext\n",
        "    print(f\"w^0 = {w}\")\n",
        "\n",
        "    # Apply the rounds of SPN\n",
        "    for r in range(len(round_keys) - 1):\n",
        "        # Round key\n",
        "        k = round_keys[r]\n",
        "        print(f\"k^{r+1} = {k}\")\n",
        "\n",
        "        # XOR w with round key\n",
        "        u = xor(w, k)\n",
        "        print(f\"u^{r+1} = {u}\")\n",
        "\n",
        "        # Apply S-box substitution\n",
        "        v = substitute(u)\n",
        "        print(f\"v^{r+1} = {v}\")\n",
        "\n",
        "        # Apply P-box permutation if not the last round\n",
        "        if r < len(round_keys) - 2:\n",
        "            w = permute(v)\n",
        "            print(f\"w^{r+1} = {w}\")\n",
        "\n",
        "    # Last round (no permutation)\n",
        "    k = round_keys[-2]\n",
        "    print(f\"k^{len(round_keys) - 1} = {k}\")\n",
        "    u = xor(w, k)\n",
        "    print(f\"u^{len(round_keys) - 1} = {u}\")\n",
        "    v = substitute(u)\n",
        "    print(f\"v^{len(round_keys) - 1} = {v}\")\n",
        "\n",
        "    # Final XOR with the last round key\n",
        "    k = round_keys[-1]\n",
        "    print(f\"k^{len(round_keys)} = {k}\")\n",
        "    y = xor(v, k)\n",
        "    print(f\"y = {y}\")\n",
        "\n",
        "    return y\n",
        "\n",
        "# Example plaintext from the provided image\n",
        "plaintext = '0010011010110111'\n",
        "\n",
        "# Perform the SPN encryption with verbose output\n",
        "ciphertext = SPN_encryption_verbose(plaintext, round_keys)\n"
      ],
      "metadata": {
        "colab": {
          "base_uri": "https://localhost:8080/"
        },
        "id": "kILLhY4Meo1p",
        "outputId": "2aaf5fae-d6f7-4cbd-a28e-9063389c7c62"
      },
      "execution_count": 1,
      "outputs": [
        {
          "output_type": "stream",
          "name": "stdout",
          "text": [
            "x = 0010011010110111\n",
            "w^0 = 0010011010110111\n",
            "k^1 = 0011101001010000\n",
            "u^1 = 0001110011100111\n",
            "v^1 = 0100010100001000\n",
            "w^1 = 0011100000001000\n",
            "k^2 = 1010100101001101\n",
            "u^2 = 1001000101000101\n",
            "v^2 = 1010010000101111\n",
            "w^2 = 0010101101100011\n",
            "k^3 = 1001010011010110\n",
            "u^3 = 1011111110110101\n",
            "v^3 = 1100011111001111\n",
            "w^3 = 0111111010101011\n",
            "k^4 = 0100110100100011\n",
            "u^4 = 0011001110001000\n",
            "v^4 = 0001000100110011\n",
            "k^4 = 0100110100100011\n",
            "u^4 = 0011001110001000\n",
            "v^4 = 0001000100110011\n",
            "k^5 = 1101011000111111\n",
            "y = 1100011100001100\n"
          ]
        }
      ]
    }
  ]
}