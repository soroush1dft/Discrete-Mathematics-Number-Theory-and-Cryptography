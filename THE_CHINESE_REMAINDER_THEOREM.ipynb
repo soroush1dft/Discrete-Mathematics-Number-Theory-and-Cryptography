{
  "nbformat": 4,
  "nbformat_minor": 0,
  "metadata": {
    "colab": {
      "provenance": [],
      "authorship_tag": "ABX9TyO0cZ3Q/n8/wEeOoQNLjJPg",
      "include_colab_link": true
    },
    "kernelspec": {
      "name": "python3",
      "display_name": "Python 3"
    },
    "language_info": {
      "name": "python"
    }
  },
  "cells": [
    {
      "cell_type": "markdown",
      "metadata": {
        "id": "view-in-github",
        "colab_type": "text"
      },
      "source": [
        "<a href=\"https://colab.research.google.com/github/soroush1dft/Discrete-Mathematics-Number-Theory-and-Cryptography/blob/main/THE_CHINESE_REMAINDER_THEOREM.ipynb\" target=\"_parent\"><img src=\"https://colab.research.google.com/assets/colab-badge.svg\" alt=\"Open In Colab\"/></a>"
      ]
    },
    {
      "cell_type": "code",
      "execution_count": 2,
      "metadata": {
        "colab": {
          "base_uri": "https://localhost:8080/"
        },
        "id": "Qxr-denn3Awx",
        "outputId": "52a7d844-b623-41a0-fbdc-6c0a43044290"
      },
      "outputs": [
        {
          "output_type": "stream",
          "name": "stdout",
          "text": [
            "-3\n"
          ]
        }
      ],
      "source": [
        "def gcd_euclidean(first , second):\n",
        "  #x = max(first , second)\n",
        "  #d = min(first , second)\n",
        "  x = first\n",
        "  d = second\n",
        "  m = x\n",
        "  n = d\n",
        "  k = [0 ,1 ]\n",
        "  q = [0 ,0 ]\n",
        "  r = [x ,d ]\n",
        "  s = [1 ,0 ]\n",
        "  t = [0 ,1 ]\n",
        "  i = 2\n",
        "  while n!= 0:\n",
        "\n",
        "    remmainder = m%n\n",
        "    q1 = divmod(m , n)[0]\n",
        "    k.append(i)\n",
        "    q.append(q1)\n",
        "    r.append(remmainder)\n",
        "    sk = s[i-2] - (q[i]*s[i-1])\n",
        "    s.append(sk)\n",
        "    tk = t[i-2] - (q[i]*t[i-1])\n",
        "    t.append(tk)\n",
        "\n",
        "\n",
        "    m = n\n",
        "    n = remmainder\n",
        "\n",
        "    i += 1\n",
        "\n",
        "  return s[-2]\n",
        "\n",
        "remainders = []\n",
        "\n",
        "\n"
      ]
    }
  ]
}