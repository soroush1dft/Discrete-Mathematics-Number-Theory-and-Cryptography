{
  "nbformat": 4,
  "nbformat_minor": 0,
  "metadata": {
    "colab": {
      "provenance": [],
      "authorship_tag": "ABX9TyMZYyD+509s37EvrIJB9Wax",
      "include_colab_link": true
    },
    "kernelspec": {
      "name": "python3",
      "display_name": "Python 3"
    },
    "language_info": {
      "name": "python"
    }
  },
  "cells": [
    {
      "cell_type": "markdown",
      "metadata": {
        "id": "view-in-github",
        "colab_type": "text"
      },
      "source": [
        "<a href=\"https://colab.research.google.com/github/soroush1dft/Discrete-Mathematics-Number-Theory-and-Cryptography/blob/main/THE_CHINESE_REMAINDER_THEOREM.ipynb\" target=\"_parent\"><img src=\"https://colab.research.google.com/assets/colab-badge.svg\" alt=\"Open In Colab\"/></a>"
      ]
    },
    {
      "cell_type": "code",
      "execution_count": 22,
      "metadata": {
        "colab": {
          "base_uri": "https://localhost:8080/"
        },
        "id": "Qxr-denn3Awx",
        "outputId": "f16db041-4bbb-4f8b-aa1d-762049c1e7b2"
      },
      "outputs": [
        {
          "output_type": "stream",
          "name": "stdout",
          "text": [
            "Enter number of Congruences : 3\n",
            "\n",
            "Enter the remainders (space between each of remainders) : 1 2 3\n",
            "\n",
            "Enter the divisors (space between each of divisors) : 5 6 7\n",
            "the value of X = 206\n"
          ]
        }
      ],
      "source": [
        "def gcd_euclidean(first , second):\n",
        "  #x = max(first , second)\n",
        "  #d = min(first , second)\n",
        "  x = first\n",
        "  d = second\n",
        "  m = x\n",
        "  n = d\n",
        "  k = [0 ,1 ]\n",
        "  q = [0 ,0 ]\n",
        "  r = [x ,d ]\n",
        "  s = [1 ,0 ]\n",
        "  t = [0 ,1 ]\n",
        "  i = 2\n",
        "  while n!= 0:\n",
        "\n",
        "    remmainder = m%n\n",
        "    q1 = divmod(m , n)[0]\n",
        "    k.append(i)\n",
        "    q.append(q1)\n",
        "    r.append(remmainder)\n",
        "    sk = s[i-2] - (q[i]*s[i-1])\n",
        "    s.append(sk)\n",
        "    tk = t[i-2] - (q[i]*t[i-1])\n",
        "    t.append(tk)\n",
        "\n",
        "\n",
        "    m = n\n",
        "    n = remmainder\n",
        "\n",
        "    i += 1\n",
        "\n",
        "  return s[-2]\n",
        "\n",
        "##remainders = [2, 3, 2]\n",
        "##divisors = [3 , 5, 7]\n",
        "\n",
        "def CRT(R , D):\n",
        "  N = 1\n",
        "  Ni = []\n",
        "  Mi = []\n",
        "  Ai = R\n",
        "  Xi = []\n",
        "  x = 1\n",
        "\n",
        "  for i in range(len(D)):\n",
        "    N *= D[i]\n",
        "  for i in range(len(D)):\n",
        "    Ni.append(int(N/D[i]))\n",
        "    Mi.append(gcd_euclidean(Ni[i] , D[i]))\n",
        "  for i in range(len(R)):\n",
        "    Xi.append(Ni[i]*Mi[i]*Ai[i])\n",
        "  res = ((sum(Xi)% N)+N)% N\n",
        "  return res\n",
        "\n",
        "\n",
        "#print(\"the value of X = \" + str(CRT(remainders, divisors)))\n",
        "\n",
        "\n",
        "\n",
        "\n",
        "\n",
        "# number of Congruences\n",
        "number_of_Congruences = int(input(\"Enter number of Congruences : \"))\n",
        "\n",
        "# Below line read inputs from user using map() function\n",
        "remainders = list(map(int,\n",
        "    input(\"\\nEnter the remainders (space between each of remainders) : \").strip().split()))[:number_of_Congruences]\n",
        "divisors = list(map(int,\n",
        "    input(\"\\nEnter the divisors (space between each of divisors) : \").strip().split()))[:number_of_Congruences]\n",
        "\n",
        "print(\"the value of X = \" + str(CRT(remainders, divisors)))"
      ]
    }
  ]
}