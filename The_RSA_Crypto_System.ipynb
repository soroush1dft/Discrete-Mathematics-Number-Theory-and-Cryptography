{
  "nbformat": 4,
  "nbformat_minor": 0,
  "metadata": {
    "colab": {
      "provenance": [],
      "authorship_tag": "ABX9TyNgWp+3DNDmo7NLFtYr+nfA",
      "include_colab_link": true
    },
    "kernelspec": {
      "name": "python3",
      "display_name": "Python 3"
    },
    "language_info": {
      "name": "python"
    }
  },
  "cells": [
    {
      "cell_type": "markdown",
      "metadata": {
        "id": "view-in-github",
        "colab_type": "text"
      },
      "source": [
        "<a href=\"https://colab.research.google.com/github/soroush1dft/Discrete-Mathematics-Number-Theory-and-Cryptography/blob/main/The_RSA_Crypto_System.ipynb\" target=\"_parent\"><img src=\"https://colab.research.google.com/assets/colab-badge.svg\" alt=\"Open In Colab\"/></a>"
      ]
    },
    {
      "cell_type": "code",
      "execution_count": 3,
      "metadata": {
        "colab": {
          "base_uri": "https://localhost:8080/"
        },
        "id": "SghHIEQxl7HE",
        "outputId": "48f7faf3-3795-4a2f-ce35-b39ed078b238"
      },
      "outputs": [
        {
          "output_type": "stream",
          "name": "stdout",
          "text": [
            "enter c1:  1819\n",
            "enter c2:  1415\n",
            "enter n:  2537\n",
            "enter e:  13\n",
            "[2081, 2182]\n"
          ]
        }
      ],
      "source": [
        "c1 = int(input(\"enter c1:  \"))\n",
        "c2 = int(input(\"enter c2:  \"))\n",
        "n = int(input(\"enter n:  \"))\n",
        "e = int(input(\"enter e:  \"))\n",
        "\n",
        "def RSA_encryption(Message ,n ,e ):\n",
        "  C_output = (Message**e) % n\n",
        "  return C_output\n",
        "\n",
        "res = [RSA_encryption(c1, n, e) , RSA_encryption(c2, n, e)]\n",
        "\n",
        "print(res)"
      ]
    }
  ]
}