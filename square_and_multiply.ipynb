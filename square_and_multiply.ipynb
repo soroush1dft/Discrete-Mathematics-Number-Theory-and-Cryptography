{
  "nbformat": 4,
  "nbformat_minor": 0,
  "metadata": {
    "colab": {
      "provenance": [],
      "authorship_tag": "ABX9TyMDy4iF271rcTOaaFys961Z",
      "include_colab_link": true
    },
    "kernelspec": {
      "name": "python3",
      "display_name": "Python 3"
    },
    "language_info": {
      "name": "python"
    }
  },
  "cells": [
    {
      "cell_type": "markdown",
      "metadata": {
        "id": "view-in-github",
        "colab_type": "text"
      },
      "source": [
        "<a href=\"https://colab.research.google.com/github/soroush1dft/Discrete-Mathematics-Number-Theory-and-Cryptography/blob/main/square_and_multiply.ipynb\" target=\"_parent\"><img src=\"https://colab.research.google.com/assets/colab-badge.svg\" alt=\"Open In Colab\"/></a>"
      ]
    },
    {
      "cell_type": "code",
      "execution_count": 3,
      "metadata": {
        "colab": {
          "base_uri": "https://localhost:8080/"
        },
        "id": "3zMyokZa1Xzc",
        "outputId": "42231df7-d02c-4428-f5cb-7c3985e87f25"
      },
      "outputs": [
        {
          "output_type": "stream",
          "name": "stdout",
          "text": [
            "3350117386\n"
          ]
        }
      ],
      "source": [
        "def square_and_multiply(a, b, n):\n",
        "    # Convert b to its binary representation\n",
        "    binary_exponent = bin(b)[2:]  # Skip the '0b' prefix\n",
        "\n",
        "    # Initialize result; start with the base value\n",
        "    result = 1\n",
        "\n",
        "    # Iterate over each bit in the binary representation of b\n",
        "    for bit in binary_exponent:\n",
        "        # Square the result (this happens for every bit)\n",
        "        result = (result * result) % n\n",
        "\n",
        "        # Multiply if the current bit is 1\n",
        "        if bit == '1':\n",
        "            result = (result * a) % n\n",
        "\n",
        "    return result\n",
        "\n",
        "# Example usage\n",
        "a = 5555662297\n",
        "b = 13469895226695225642424\n",
        "n = 4585626245\n",
        "print(square_and_multiply(a, b, n))\n"
      ]
    }
  ]
}